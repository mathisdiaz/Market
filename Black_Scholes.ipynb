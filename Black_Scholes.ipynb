{
 "cells": [
  {
   "cell_type": "code",
   "execution_count": 1,
   "id": "286726de-87e7-4b97-ae51-12ed21cc711a",
   "metadata": {},
   "outputs": [
    {
     "name": "stdout",
     "output_type": "stream",
     "text": [
      "0.35000000000000003 0.15000000000000002\n",
      "10.450583572185572\n"
     ]
    }
   ],
   "source": [
    "from math import exp, log\n",
    "import scipy.stats\n",
    "import numpy as np\n",
    "\n",
    "def norm_cdf(x):\n",
    "    return scipy.stats.norm(0,1).cdf(x) #répartition cumulative, norm_cdf(1) -> probabilité que ce soit inférieur à 1\n",
    "\n",
    "def norm_pdf(x):\n",
    "    return scipy.stats.norm(0,1).pdf(x) #norm_pdf(1) -> probabilité que ce soit égale à 1\n",
    "\n",
    "def d_j(j,S,K,r,v,t):\n",
    "    return (log(S/K) + (r+(v**2)*0.5)*t)/v*np.sqrt(t)\n",
    "   \n",
    "\n",
    "def Black_Scholes(S, K, r, v, t, type = \"c\"):\n",
    "    d_1=d_j(1,S,K,r,v,t)\n",
    "    d_2=d_1-v*np.sqrt(t)\n",
    "    print(d_1,d_2)\n",
    "    if type=='c':\n",
    "        price=norm_cdf(d_1)*S - norm_cdf(d_2)*K*np.exp(-r*t)\n",
    "    elif type=='p':\n",
    "        price=norm_cdf(d_1)*S - norm_cdf(d_2)*K*np.exp(-r*t)\n",
    "    return price\n",
    "    \n",
    "print(Black_Scholes(100, 100, 0.05, 0.2, 1, 'p'))"
   ]
  },
  {
   "cell_type": "code",
   "execution_count": null,
   "id": "12c562b4-84ab-41fd-99b1-bf2161dc682d",
   "metadata": {},
   "outputs": [],
   "source": []
  }
 ],
 "metadata": {
  "kernelspec": {
   "display_name": "Python 3 (ipykernel)",
   "language": "python",
   "name": "python3"
  },
  "language_info": {
   "codemirror_mode": {
    "name": "ipython",
    "version": 3
   },
   "file_extension": ".py",
   "mimetype": "text/x-python",
   "name": "python",
   "nbconvert_exporter": "python",
   "pygments_lexer": "ipython3",
   "version": "3.11.7"
  }
 },
 "nbformat": 4,
 "nbformat_minor": 5
}
