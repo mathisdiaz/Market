{
 "cells": [
  {
   "cell_type": "code",
   "execution_count": 1,
   "id": "90826b8c-44c8-47fe-bc2a-686859c6fc2f",
   "metadata": {},
   "outputs": [],
   "source": [
    "import scipy.stats\n",
    "import numpy as np\n",
    "\n",
    "S=1.1614\n",
    "K=1.20\n",
    "pts=258\n",
    "rf=0.0178\n",
    "sigma=0.074\n",
    "T=1\n",
    "Notionnel=1000000\n",
    "Devise=\"EUR\"\n",
    "\n",
    "def cdf(x):\n",
    "    return scipy.stats.norm(0,1).cdf(x)\n",
    "\n",
    "def rd(S,rf,T,pts):\n",
    "    pts=pts*0.0001\n",
    "    return (rf*T*(S+pts)+pts)/(S*T)\n",
    "\n",
    "rd=rd(S,rf,T,pts)\n",
    "\n",
    "def d_j(S,K,rf,sigma,T,pts):\n",
    "    pts=pts*0.0001\n",
    "    return (np.log(S/K)+(rd-rf+(sigma**2)*0.5)*T)/(sigma*np.sqrt(T))\n",
    "\n",
    "\n",
    "def Price_Option(S,K,rf,sigma,T,pts,type=\"c\",Devise=\"EUR\"):\n",
    "    d_1=d_j(S,K,rf,sigma,T,pts)\n",
    "    d_2=d_1-sigma*np.sqrt(T)\n",
    "    if type==\"c\":\n",
    "        price=S*np.exp(-rf*T)*cdf(d_1)-K*np.exp(-rd*T)*cdf(d_2)\n",
    "        if Devise==\"EUR\":\n",
    "            price=price/S\n",
    "        return price\n",
    "    price=K*np.exp(-rd*T)*cdf(-d_2)-S*np.exp(-rf*T)*cdf(-d_1)\n",
    "    if Devise==\"EUR\":\n",
    "        price=price/S\n",
    "    return price"
   ]
  },
  {
   "cell_type": "code",
   "execution_count": 2,
   "id": "17f50113-820d-47b0-b4c7-591b2640fe04",
   "metadata": {},
   "outputs": [
    {
     "data": {
      "text/plain": [
       "0.034390121377519775"
      ]
     },
     "execution_count": 2,
     "metadata": {},
     "output_type": "execute_result"
    }
   ],
   "source": [
    "Price_Option(S,K,rf,sigma,T,pts,type=\"p\",Devise=\"EUR\")"
   ]
  },
  {
   "cell_type": "code",
   "execution_count": 3,
   "id": "b6f4375f-beac-438b-b91c-af0b83733abb",
   "metadata": {},
   "outputs": [
    {
     "name": "stdout",
     "output_type": "stream",
     "text": [
      "Le prix total de l'option est :39940.68696785147 USD\n"
     ]
    }
   ],
   "source": [
    "print(\"Le prix total de l'option est :\"+str(Price_Option(S,K,rf,sigma,T,pts,type=\"p\",Devise=\"USD\")*Notionnel)+\" USD\")"
   ]
  },
  {
   "cell_type": "code",
   "execution_count": null,
   "id": "224a065b-599d-4ce7-a5ba-3aca4c355d93",
   "metadata": {},
   "outputs": [],
   "source": []
  }
 ],
 "metadata": {
  "kernelspec": {
   "display_name": "Python 3 (ipykernel)",
   "language": "python",
   "name": "python3"
  },
  "language_info": {
   "codemirror_mode": {
    "name": "ipython",
    "version": 3
   },
   "file_extension": ".py",
   "mimetype": "text/x-python",
   "name": "python",
   "nbconvert_exporter": "python",
   "pygments_lexer": "ipython3",
   "version": "3.11.7"
  }
 },
 "nbformat": 4,
 "nbformat_minor": 5
}
